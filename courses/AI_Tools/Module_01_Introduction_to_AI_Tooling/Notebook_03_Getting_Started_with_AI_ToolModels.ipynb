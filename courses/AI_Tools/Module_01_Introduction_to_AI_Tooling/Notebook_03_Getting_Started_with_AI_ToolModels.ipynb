{
 "cells": [
  {
   "cell_type": "markdown",
   "metadata": {},
   "source": [
    "# Getting Started with AI Tools Models"
   ]
  },
  {
   "cell_type": "markdown",
   "metadata": {},
   "source": [
    "Artificial Intelligence (AI) is transforming industries, and leveraging AI tools can simplify the development of complex systems. These tools are pre-built, reusable modules that allow you to perform specific tasks like data processing, model training, or interacting with APIs. Instead of starting from scratch, AI tools help developers focus on solving problems and building applications faster.\n",
    "\n",
    "In this article, we’ll explore how to get started with AI tools using a case study focused on the `CalculatorTool`. This simple tool allows you to perform basic arithmetic operations, such as addition, subtraction, multiplication, and division, and serves as an excellent introduction to the power and flexibility of AI tools.\n",
    "\n",
    "By the end, you'll understand how to set up and use the `CalculatorTool`, and how it demonstrates the benefits of using pre-built AI tools in your projects."
   ]
  },
  {
   "cell_type": "markdown",
   "metadata": {},
   "source": [
    "## Install Dependencies"
   ]
  },
  {
   "cell_type": "code",
   "execution_count": 13,
   "metadata": {},
   "outputs": [],
   "source": [
    "from swarmauri.tools.concrete import CalculatorTool \n"
   ]
  },
  {
   "cell_type": "markdown",
   "metadata": {},
   "source": [
    "## initializing the Tool\n",
    "Using the CalculatorTool, you first need to create an instance of the class:"
   ]
  },
  {
   "cell_type": "code",
   "execution_count": null,
   "metadata": {},
   "outputs": [],
   "source": [
    "calculator = CalculatorTool()"
   ]
  },
  {
   "cell_type": "markdown",
   "metadata": {},
   "source": [
    "Here, the CalculatorTool is initialized with its predefined attributes, such as the supported operations and a descriptive overview of its functionality."
   ]
  },
  {
   "cell_type": "markdown",
   "metadata": {},
   "source": [
    "### Preparing Input Data"
   ]
  },
  {
   "cell_type": "markdown",
   "metadata": {},
   "source": [
    "The tool accepts the following parameters for each calculation:\n",
    "\n",
    "- **operation**: Specifies the arithmetic operation to perform (e.g., `add`, `subtract`, `multiply`, `divide`).\n",
    "- **x**: The first operand (a number).\n",
    "- **y**: The second operand (a number).\n",
    "For this example, we prepare a list of input dictionaries to test different scenarios:"
   ]
  },
  {
   "cell_type": "code",
   "execution_count": null,
   "metadata": {},
   "outputs": [],
   "source": [
    "inputs = [\n",
    "    {\"operation\": \"add\", \"x\": 10, \"y\": 5},\n",
    "    {\"operation\": \"subtract\", \"x\": 20, \"y\": 8},\n",
    "    {\"operation\": \"multiply\", \"x\": 3, \"y\": 7},\n",
    "    {\"operation\": \"divide\", \"x\": 15, \"y\": 3},\n",
    "    {\"operation\": \"divide\", \"x\": 15, \"y\": 0},  # Division by zero\n",
    "    {\"operation\": \"modulo\", \"x\": 10, \"y\": 2},  # Invalid operation\n",
    "]"
   ]
  },
  {
   "cell_type": "markdown",
   "metadata": {},
   "source": [
    "### Understanding the Output"
   ]
  },
  {
   "cell_type": "markdown",
   "metadata": {},
   "source": [
    "Each input produces an output, which is either a successful calculation result or an error message.\n",
    "\n",
    "### Example Output\n",
    "\n",
    "1. Addition (10 + 5):"
   ]
  },
  {
   "cell_type": "code",
   "execution_count": 16,
   "metadata": {},
   "outputs": [
    {
     "data": {
      "text/plain": [
       "{'operation': 'add', 'calculated_result': '15'}"
      ]
     },
     "execution_count": 16,
     "metadata": {},
     "output_type": "execute_result"
    }
   ],
   "source": [
    "{\"operation\": \"add\", \"calculated_result\": \"15\"}\n"
   ]
  },
  {
   "cell_type": "markdown",
   "metadata": {},
   "source": [
    "2. Subtraction (20 - 8):"
   ]
  },
  {
   "cell_type": "code",
   "execution_count": 17,
   "metadata": {},
   "outputs": [
    {
     "data": {
      "text/plain": [
       "{'operation': 'subtract', 'calculated_result': '12'}"
      ]
     },
     "execution_count": 17,
     "metadata": {},
     "output_type": "execute_result"
    }
   ],
   "source": [
    "{\"operation\": \"subtract\", \"calculated_result\": \"12\"}\n"
   ]
  },
  {
   "cell_type": "markdown",
   "metadata": {},
   "source": [
    "3. Multiplication (3 * 7):"
   ]
  },
  {
   "cell_type": "code",
   "execution_count": 18,
   "metadata": {},
   "outputs": [
    {
     "data": {
      "text/plain": [
       "{'operation': 'multiply', 'calculated_result': '21'}"
      ]
     },
     "execution_count": 18,
     "metadata": {},
     "output_type": "execute_result"
    }
   ],
   "source": [
    "{\"operation\": \"multiply\", \"calculated_result\": \"21\"}\n"
   ]
  },
  {
   "cell_type": "markdown",
   "metadata": {},
   "source": [
    "4. Division (15 / 3):"
   ]
  },
  {
   "cell_type": "code",
   "execution_count": 19,
   "metadata": {},
   "outputs": [
    {
     "data": {
      "text/plain": [
       "{'operation': 'divide', 'calculated_result': '5.0'}"
      ]
     },
     "execution_count": 19,
     "metadata": {},
     "output_type": "execute_result"
    }
   ],
   "source": [
    "{\"operation\": \"divide\", \"calculated_result\": \"5.0\"}\n"
   ]
  },
  {
   "cell_type": "markdown",
   "metadata": {},
   "source": [
    "5. Division by Zero (15 / 0):"
   ]
  },
  {
   "cell_type": "code",
   "execution_count": 20,
   "metadata": {},
   "outputs": [
    {
     "data": {
      "text/plain": [
       "'Error: Division by zero.'"
      ]
     },
     "execution_count": 20,
     "metadata": {},
     "output_type": "execute_result"
    }
   ],
   "source": [
    "\"Error: Division by zero.\"\n"
   ]
  },
  {
   "cell_type": "markdown",
   "metadata": {},
   "source": [
    "6. Invalid Operation (modulo):"
   ]
  },
  {
   "cell_type": "code",
   "execution_count": 21,
   "metadata": {},
   "outputs": [
    {
     "data": {
      "text/plain": [
       "'Error: Unknown operation.'"
      ]
     },
     "execution_count": 21,
     "metadata": {},
     "output_type": "execute_result"
    }
   ],
   "source": [
    "\"Error: Unknown operation.\"\n"
   ]
  },
  {
   "cell_type": "markdown",
   "metadata": {},
   "source": [
    "## Executing the Tool"
   ]
  },
  {
   "cell_type": "markdown",
   "metadata": {},
   "source": [
    "Using a loop, we pass each dictionary of inputs to the `CalculatorTool` by unpacking the arguments with **input_data**. This allows us to handle multiple scenarios seamlessly:"
   ]
  },
  {
   "cell_type": "code",
   "execution_count": 15,
   "metadata": {},
   "outputs": [
    {
     "name": "stdout",
     "output_type": "stream",
     "text": [
      "{'operation': 'add', 'calculated_result': '15'}\n",
      "{'operation': 'subtract', 'calculated_result': '12'}\n",
      "{'operation': 'multiply', 'calculated_result': '21'}\n",
      "{'operation': 'divide', 'calculated_result': '5.0'}\n",
      "Error: Division by zero.\n",
      "Error: Unknown operation.\n"
     ]
    }
   ],
   "source": [
    "for input_data in inputs:\n",
    "    result = calculator(**input_data)\n",
    "    print(result)"
   ]
  },
  {
   "cell_type": "markdown",
   "metadata": {},
   "source": [
    "# Conclusion"
   ]
  },
  {
   "cell_type": "markdown",
   "metadata": {},
   "source": [
    "The `CalculatorTool` serves as just one example of the many tools available in the Swarmauri ecosystem. While it focuses on basic arithmetic operations, Swarmauri offers a diverse range of other tools designed to enhance and simplify various workflows. By following the steps outlined in this guide, you can easily use the CalculatorTool for calculations, handle errors effectively, and extend its functionality as needed.\n",
    "\n",
    "For developers, this example demonstrates the importance of robust error handling and user-friendly design in tool development. Additionally, Swarmauri's broader suite of tools provides ample opportunities to build and integrate solutions across different domains, ensuring reliability and efficiency in real-world applications."
   ]
  },
  {
   "cell_type": "code",
   "execution_count": 3,
   "metadata": {},
   "outputs": [
    {
     "name": "stdout",
     "output_type": "stream",
     "text": [
      "Author: Abanobi Joseph\n",
      "GitHub Username: Bigjoefilms\n",
      "Last Modified: 2024-11-20 02:02:07.037928\n",
      "Platform: Darwin 24.0.0\n",
      "Python Version: 3.12.7 | packaged by Anaconda, Inc. | (main, Oct  4 2024, 08:22:19) [Clang 14.0.6 ]\n",
      "Swarmauri Version: 0.5.2.dev1\n"
     ]
    }
   ],
   "source": [
    "import os\n",
    "import platform\n",
    "import sys\n",
    "from datetime import datetime\n",
    "\n",
    "# Display author information\n",
    "author_name = \"Abanobi Joseph\" \n",
    "github_username = \"Bigjoefilms\"  \n",
    "\n",
    "print(f\"Author: {author_name}\")\n",
    "print(f\"GitHub Username: {github_username}\")\n",
    "\n",
    "# Last modified datetime (file's metadata)\n",
    "notebook_file = \"Notebook_01_Overview_of_AI_Tools_and_Function_Calling.ipynb\"\n",
    "try:\n",
    "    last_modified_time = os.path.getmtime(notebook_file)\n",
    "    last_modified_datetime = datetime.fromtimestamp(last_modified_time)\n",
    "    print(f\"Last Modified: {last_modified_datetime}\")\n",
    "except Exception as e:\n",
    "    print(f\"Could not retrieve last modified datetime: {e}\")\n",
    "\n",
    "# Display platform, Python version, and Swarmauri version\n",
    "print(f\"Platform: {platform.system()} {platform.release()}\")\n",
    "print(f\"Python Version: {sys.version}\")\n",
    "\n",
    "import swarmauri\n",
    "\n",
    "try:\n",
    "    version = swarmauri.__version__\n",
    "except AttributeError:\n",
    "    version = f\"Swarmauri Version: 0.5.1\"\n",
    "\n",
    "print(f\"Swarmauri Version: {version}\")"
   ]
  }
 ],
 "metadata": {
  "kernelspec": {
   "display_name": "swarmauri-0.5.2",
   "language": "python",
   "name": "python3"
  },
  "language_info": {
   "codemirror_mode": {
    "name": "ipython",
    "version": 3
   },
   "file_extension": ".py",
   "mimetype": "text/x-python",
   "name": "python",
   "nbconvert_exporter": "python",
   "pygments_lexer": "ipython3",
   "version": "3.12.7"
  }
 },
 "nbformat": 4,
 "nbformat_minor": 2
}
